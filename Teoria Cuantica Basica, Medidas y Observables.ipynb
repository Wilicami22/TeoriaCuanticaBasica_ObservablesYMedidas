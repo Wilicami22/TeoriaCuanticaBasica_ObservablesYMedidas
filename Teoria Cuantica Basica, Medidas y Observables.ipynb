{
 "cells": [
  {
   "cell_type": "markdown",
   "id": "28a44f43-cdd4-48b1-be94-f79b7047e8bc",
   "metadata": {},
   "source": [
    "# Teoria Cuantica Basica, Medidas y Observables\n",
    "\n",
    "##### El sistema consiste en una partícula confinada a un conjunto discreto de posiciones en una línea. El simulador debe permitir especificar el número de posiciones y un vector ket de estado asignando las amplitudes.\n",
    "\n",
    "1. El sistema debe calcular la probabilidad de encontrarlo en una posición en particular.\n",
    "\n",
    "2. El sistema si se le da otro vector Ket debe buscar la probabilidad de transitar del primer vector al segundo."
   ]
  },
  {
   "cell_type": "code",
   "execution_count": 7,
   "id": "d8643320-6ac3-4fd9-8013-3fe82eada811",
   "metadata": {},
   "outputs": [
    {
     "name": "stdout",
     "output_type": "stream",
     "text": [
      "0.05263157894736842 0.9999999999999996\n"
     ]
    }
   ],
   "source": [
    "import numpy as np\n",
    "\n",
    "def probabilidad(vector,posicion):\n",
    "    mod1=(abs(vector[posicion]))**2\n",
    "    sumatoria = 0\n",
    "    for i in vector:\n",
    "        sumatoria += (abs(i))**2\n",
    "    return mod1/sumatoria\n",
    " \n",
    "def transito(v1,v2):\n",
    "\n",
    "    normalized_v1 = v1 / np.linalg.norm(v1)\n",
    "    normalized_v2 = v2 / np.linalg.norm(v2)\n",
    "    \n",
    "\n",
    "    x=(abs((np.dot(normalized_v2.T.conj(),normalized_v1))))**2\n",
    "    return x\n",
    "\n",
    "def main():\n",
    "    x=np.array([-3-1j,0-2j,0+1j,2])\n",
    "    posicion=2\n",
    "    y=np.array([ 1 , -1j])\n",
    "    v=np.array([ 1j , 1])\n",
    "    u= transito(y,v)\n",
    "    z=probabilidad(x,posicion)\n",
    "    print(probabilidad(x,posicion), u)\n",
    "main()"
   ]
  },
  {
   "cell_type": "markdown",
   "id": "b6271546-9aa7-4e78-b747-1e5fcd1c1b4f",
   "metadata": {},
   "source": [
    "1. Amplitud de transición. El sistema puede recibir dos vectores y calcular la probabilidad de transitar de el uno al otro después de hacer la observación\n",
    "\n",
    "2. Ahora con una matriz que describa un observable y un vector ket, el sistema revisa que la matriz sea hermitiana, y si lo es, calcula la media y la varianza del observable en el estado dado.\n",
    "\n",
    "3. El sistema calcula los valores propios del observable y la probabilidad de que el sistema transite a alguno de los vectores propios después de la observación.\n",
    "\n",
    "4. Se considera la dinámica del sistema. Ahora con una serie de matrices Un el sistema calcula el estado final a partir de un estado inicial."
   ]
  },
  {
   "cell_type": "code",
   "execution_count": 8,
   "id": "d98b0dbc-7e37-4a71-b6ef-7871851729c0",
   "metadata": {},
   "outputs": [
    {
     "name": "stdout",
     "output_type": "stream",
     "text": [
      "[[2.5+0.j]] [[0.25+0.j]]\n",
      "Los valores propios son: [0.38196601+0.j 2.61803399+0.j]\n",
      "Eigenvectors:\n",
      " [[ 0.85065081+0.j         -0.        -0.52573111j]\n",
      " [-0.        -0.52573111j  0.85065081+0.j        ]]\n",
      "[0.0527864]\n"
     ]
    }
   ],
   "source": [
    "def transito(v1,v2):\n",
    "\n",
    "    normalized_v1 = v1 / np.linalg.norm(v1)\n",
    "    normalized_v2 = v2 / np.linalg.norm(v2)\n",
    "    \n",
    "\n",
    "    x=(abs((np.dot(normalized_v2.T.conj(),normalized_v1))))**2\n",
    "    return x\n",
    "\n",
    "\n",
    "def mediaYVarianza(observable,ket):\n",
    "\n",
    "    Identidad=np.array([[1,0],[0,1]])\n",
    "    \n",
    "    s= checkHermitian(observable)\n",
    "    \n",
    "    if not s:\n",
    "        print(\"La matriz no es hermitiana\")\n",
    "        return null;\n",
    "        \n",
    "    else:\n",
    "        media=valorEsperado(observable,ket)\n",
    "        delta=(observable-(Identidad*media))\n",
    "        delta2=(np.dot(delta,delta))\n",
    "        varianza= np.dot(np.dot(delta2,ket).T.conj(),ket)\n",
    "\n",
    "        return(media,varianza)\n",
    "        \n",
    "        \n",
    "def valorEsperado(obs,est):\n",
    "\n",
    "    t= np.dot((np.dot(obs,est)).T.conjugate(),est)\n",
    "    return t\n",
    "\n",
    "def checkHermitian(matriz):\n",
    "\n",
    "    return np.allclose(matriz, matriz.conj().T)\n",
    "\n",
    "\n",
    "def probabilidadTransitar(observable,ket):\n",
    "    eigenvalues, eigenvectors = np.linalg.eig(observable)\n",
    "    eigenvectors = eigenvectors.T\n",
    "    \n",
    "    print(\"Los valores propios son:\", eigenvalues)\n",
    "    print(\"Eigenvectors:\\n\", eigenvectors)\n",
    "    print(transito(eigenvectors[0],ket))\n",
    "\n",
    "\n",
    "def main():\n",
    "    observable = np.array([[1+0j, -1j], [1j, 2+0j]])\n",
    "    ket= np.array([[(np.sqrt(2)/2)],[(np.sqrt(2)/2)*1j]])\n",
    "    x,y=mediaYVarianza(observable,ket)\n",
    "    print(x,y)\n",
    "    probabilidadTransitar(observable,ket)\n",
    "\n",
    "\n",
    "main()\n"
   ]
  },
  {
   "cell_type": "code",
   "execution_count": 9,
   "id": "7825d08e-76d9-4c97-98a1-9549d6e9082a",
   "metadata": {},
   "outputs": [
    {
     "ename": "ValueError",
     "evalue": "shapes (1,4) and (1,4) not aligned: 4 (dim 1) != 1 (dim 0)",
     "output_type": "error",
     "traceback": [
      "\u001b[1;31m---------------------------------------------------------------------------\u001b[0m",
      "\u001b[1;31mValueError\u001b[0m                                Traceback (most recent call last)",
      "Cell \u001b[1;32mIn[9], line 20\u001b[0m\n\u001b[0;32m     18\u001b[0m     estado\u001b[38;5;241m=\u001b[39m dinamicaSistema(matriz,ket,\u001b[38;5;241m3\u001b[39m)\n\u001b[0;32m     19\u001b[0m     \u001b[38;5;28mprint\u001b[39m(estado)\n\u001b[1;32m---> 20\u001b[0m \u001b[43mmain\u001b[49m\u001b[43m(\u001b[49m\u001b[43m)\u001b[49m\n",
      "Cell \u001b[1;32mIn[9], line 18\u001b[0m, in \u001b[0;36mmain\u001b[1;34m()\u001b[0m\n\u001b[0;32m     12\u001b[0m ket\u001b[38;5;241m=\u001b[39mket\u001b[38;5;241m.\u001b[39mT\n\u001b[0;32m     13\u001b[0m matriz\u001b[38;5;241m=\u001b[39mnp\u001b[38;5;241m.\u001b[39marray([[\u001b[38;5;241m0\u001b[39m,\u001b[38;5;241m1\u001b[39m\u001b[38;5;241m/\u001b[39mnp\u001b[38;5;241m.\u001b[39msqrt(\u001b[38;5;241m2\u001b[39m),\u001b[38;5;241m1\u001b[39m\u001b[38;5;241m/\u001b[39mnp\u001b[38;5;241m.\u001b[39msqrt(\u001b[38;5;241m2\u001b[39m),\u001b[38;5;241m0\u001b[39m],\n\u001b[0;32m     14\u001b[0m                  [\u001b[38;5;241m1\u001b[39mj\u001b[38;5;241m/\u001b[39mnp\u001b[38;5;241m.\u001b[39msqrt(\u001b[38;5;241m2\u001b[39m),\u001b[38;5;241m0\u001b[39m,\u001b[38;5;241m0\u001b[39m,\u001b[38;5;241m1\u001b[39m\u001b[38;5;241m/\u001b[39mnp\u001b[38;5;241m.\u001b[39msqrt(\u001b[38;5;241m2\u001b[39m)],\n\u001b[0;32m     15\u001b[0m                  [\u001b[38;5;241m1\u001b[39m\u001b[38;5;241m/\u001b[39mnp\u001b[38;5;241m.\u001b[39msqrt(\u001b[38;5;241m2\u001b[39m),\u001b[38;5;241m0\u001b[39m,\u001b[38;5;241m0\u001b[39m,\u001b[38;5;241m1\u001b[39mj\u001b[38;5;241m/\u001b[39mnp\u001b[38;5;241m.\u001b[39msqrt(\u001b[38;5;241m2\u001b[39m)],\n\u001b[0;32m     16\u001b[0m                  [\u001b[38;5;241m0\u001b[39m,\u001b[38;5;241m1\u001b[39m\u001b[38;5;241m/\u001b[39mnp\u001b[38;5;241m.\u001b[39msqrt(\u001b[38;5;241m2\u001b[39m),\u001b[38;5;241m-\u001b[39m\u001b[38;5;241m1\u001b[39m\u001b[38;5;241m/\u001b[39mnp\u001b[38;5;241m.\u001b[39msqrt(\u001b[38;5;241m2\u001b[39m),\u001b[38;5;241m0\u001b[39m]])\n\u001b[1;32m---> 18\u001b[0m estado\u001b[38;5;241m=\u001b[39m \u001b[43mdinamicaSistema\u001b[49m\u001b[43m(\u001b[49m\u001b[43mmatriz\u001b[49m\u001b[43m,\u001b[49m\u001b[43mket\u001b[49m\u001b[43m,\u001b[49m\u001b[38;5;241;43m3\u001b[39;49m\u001b[43m)\u001b[49m\n\u001b[0;32m     19\u001b[0m \u001b[38;5;28mprint\u001b[39m(estado)\n",
      "Cell \u001b[1;32mIn[9], line 5\u001b[0m, in \u001b[0;36mdinamicaSistema\u001b[1;34m(matriz, ket, step)\u001b[0m\n\u001b[0;32m      1\u001b[0m \u001b[38;5;28;01mdef\u001b[39;00m \u001b[38;5;21mdinamicaSistema\u001b[39m(matriz,ket,step):\n\u001b[0;32m      3\u001b[0m     \u001b[38;5;28;01mfor\u001b[39;00m i \u001b[38;5;129;01min\u001b[39;00m \u001b[38;5;28mrange\u001b[39m(step):\n\u001b[1;32m----> 5\u001b[0m         matriz\u001b[38;5;241m=\u001b[39m\u001b[43mnp\u001b[49m\u001b[38;5;241;43m.\u001b[39;49m\u001b[43mdot\u001b[49m\u001b[43m(\u001b[49m\u001b[43mket\u001b[49m\u001b[38;5;241;43m.\u001b[39;49m\u001b[43mT\u001b[49m\u001b[38;5;241;43m.\u001b[39;49m\u001b[43mconj\u001b[49m\u001b[43m(\u001b[49m\u001b[43m)\u001b[49m\u001b[43m,\u001b[49m\u001b[43mmatriz\u001b[49m\u001b[43m)\u001b[49m\n\u001b[0;32m      7\u001b[0m     \u001b[38;5;28;01mreturn\u001b[39;00m matriz\n",
      "\u001b[1;31mValueError\u001b[0m: shapes (1,4) and (1,4) not aligned: 4 (dim 1) != 1 (dim 0)"
     ]
    }
   ],
   "source": [
    "def dinamicaSistema(matriz,ket,step):\n",
    "\n",
    "    for i in range(step):\n",
    "\n",
    "        matriz=np.dot(ket.T.conj(),matriz)\n",
    "        \n",
    "    return matriz\n",
    "\n",
    "def main():\n",
    "\n",
    "    ket=np.array([[1,0,0,0]])\n",
    "    ket=ket.T\n",
    "    matriz=np.array([[0,1/np.sqrt(2),1/np.sqrt(2),0],\n",
    "                     [1j/np.sqrt(2),0,0,1/np.sqrt(2)],\n",
    "                     [1/np.sqrt(2),0,0,1j/np.sqrt(2)],\n",
    "                     [0,1/np.sqrt(2),-1/np.sqrt(2),0]])\n",
    "\n",
    "    estado= dinamicaSistema(matriz,ket,3)\n",
    "    print(estado)\n",
    "main()"
   ]
  },
  {
   "cell_type": "code",
   "execution_count": null,
   "id": "bca847e6-1471-446f-a324-1b0c24ea7cae",
   "metadata": {},
   "outputs": [],
   "source": []
  }
 ],
 "metadata": {
  "kernelspec": {
   "display_name": "Python 3 (ipykernel)",
   "language": "python",
   "name": "python3"
  },
  "language_info": {
   "codemirror_mode": {
    "name": "ipython",
    "version": 3
   },
   "file_extension": ".py",
   "mimetype": "text/x-python",
   "name": "python",
   "nbconvert_exporter": "python",
   "pygments_lexer": "ipython3",
   "version": "3.11.7"
  }
 },
 "nbformat": 4,
 "nbformat_minor": 5
}
