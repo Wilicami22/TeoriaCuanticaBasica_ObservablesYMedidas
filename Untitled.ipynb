{
 "cells": [
  {
   "cell_type": "markdown",
   "id": "28a44f43-cdd4-48b1-be94-f79b7047e8bc",
   "metadata": {},
   "source": [
    "# Teoria Cuantica Basica, Medidas y Observables\n",
    "\n",
    "##### El sistema consiste en una partícula confinada a un conjunto discreto de posiciones en una línea. El simulador debe permitir especificar el número de posiciones y un vector ket de estado asignando las amplitudes.\n",
    "\n",
    "1. El sistema debe calcular la probabilidad de encontrarlo en una posición en particular.\n",
    "\n",
    "2. El sistema si se le da otro vector Ket debe buscar la probabilidad de transitar del primer vector al segundo."
   ]
  },
  {
   "cell_type": "code",
   "execution_count": 28,
   "id": "d8643320-6ac3-4fd9-8013-3fe82eada811",
   "metadata": {},
   "outputs": [
    {
     "name": "stdout",
     "output_type": "stream",
     "text": [
      "0.05263157894736842 4.0\n"
     ]
    }
   ],
   "source": [
    "import numpy as np\n",
    "\n",
    "def probabilidad(vector,posicion):\n",
    "    mod1=(abs(vector[posicion]))**2\n",
    "    sumatoria = 0\n",
    "    for i in vector:\n",
    "        sumatoria += (abs(i))**2\n",
    "    return mod1/sumatoria\n",
    " \n",
    "def transito(vector1,vector2):\n",
    "\n",
    "\n",
    "    x=(abs((np.dot(vector2.T.conj(),vector1))))**2\n",
    "    return x\n",
    "\n",
    "def main():\n",
    "    x=np.array([-3-1j,0-2j,0+1j,2])\n",
    "    posicion=2\n",
    "    y=np.array([ 1 , -1j])\n",
    "    v=np.array([ 1j , 1])\n",
    "    u= transito(y,v)\n",
    "    z=probabilidad(x,posicion)\n",
    "    print(probabilidad(x,posicion), u)\n",
    "main()"
   ]
  },
  {
   "cell_type": "code",
   "execution_count": null,
   "id": "e1335d0e-4300-4633-bf46-afe969ba48e3",
   "metadata": {},
   "outputs": [],
   "source": []
  }
 ],
 "metadata": {
  "kernelspec": {
   "display_name": "Python 3 (ipykernel)",
   "language": "python",
   "name": "python3"
  },
  "language_info": {
   "codemirror_mode": {
    "name": "ipython",
    "version": 3
   },
   "file_extension": ".py",
   "mimetype": "text/x-python",
   "name": "python",
   "nbconvert_exporter": "python",
   "pygments_lexer": "ipython3",
   "version": "3.11.7"
  }
 },
 "nbformat": 4,
 "nbformat_minor": 5
}
